{
 "cells": [
  {
   "cell_type": "code",
   "execution_count": 1,
   "metadata": {},
   "outputs": [],
   "source": [
    "import findspark\n",
    "findspark.init('/home/ubuntu/spark-2.1.1-bin-hadoop2.7')\n",
    "import pyspark\n",
    "from pyspark.sql import SparkSession\n",
    "spark = SparkSession.builder.appName('operations').getOrCreate()\n",
    "\n",
    "\n",
    "df = spark.read.csv('weatherAUS.csv', inferSchema=True, header=True)"
   ]
  },
  {
   "cell_type": "code",
   "execution_count": 2,
   "metadata": {},
   "outputs": [
    {
     "data": {
      "text/plain": [
       "['Date',\n",
       " 'Location',\n",
       " 'MinTemp',\n",
       " 'MaxTemp',\n",
       " 'Rainfall',\n",
       " 'Evaporation',\n",
       " 'Sunshine',\n",
       " 'WindGustDir',\n",
       " 'WindGustSpeed',\n",
       " 'WindDir9am',\n",
       " 'WindDir3pm',\n",
       " 'WindSpeed9am',\n",
       " 'WindSpeed3pm',\n",
       " 'Humidity9am',\n",
       " 'Humidity3pm',\n",
       " 'Pressure9am',\n",
       " 'Pressure3pm',\n",
       " 'Cloud9am',\n",
       " 'Cloud3pm',\n",
       " 'Temp9am',\n",
       " 'Temp3pm',\n",
       " 'RainToday',\n",
       " 'RISK_MM',\n",
       " 'RainTomorrow']"
      ]
     },
     "execution_count": 2,
     "metadata": {},
     "output_type": "execute_result"
    }
   ],
   "source": [
    "#2.2\n",
    "df.columns"
   ]
  },
  {
   "cell_type": "code",
   "execution_count": 3,
   "metadata": {},
   "outputs": [
    {
     "name": "stdout",
     "output_type": "stream",
     "text": [
      "24 3011\n"
     ]
    }
   ],
   "source": [
    "print(len(df.columns),df.count())"
   ]
  },
  {
   "cell_type": "code",
   "execution_count": 4,
   "metadata": {},
   "outputs": [
    {
     "name": "stdout",
     "output_type": "stream",
     "text": [
      "root\n",
      " |-- Date: string (nullable = true)\n",
      " |-- Location: string (nullable = true)\n",
      " |-- MinTemp: double (nullable = true)\n",
      " |-- MaxTemp: double (nullable = true)\n",
      " |-- Rainfall: double (nullable = true)\n",
      " |-- Evaporation: string (nullable = true)\n",
      " |-- Sunshine: string (nullable = true)\n",
      " |-- WindGustDir: string (nullable = true)\n",
      " |-- WindGustSpeed: integer (nullable = true)\n",
      " |-- WindDir9am: string (nullable = true)\n",
      " |-- WindDir3pm: string (nullable = true)\n",
      " |-- WindSpeed9am: integer (nullable = true)\n",
      " |-- WindSpeed3pm: integer (nullable = true)\n",
      " |-- Humidity9am: integer (nullable = true)\n",
      " |-- Humidity3pm: integer (nullable = true)\n",
      " |-- Pressure9am: double (nullable = true)\n",
      " |-- Pressure3pm: double (nullable = true)\n",
      " |-- Cloud9am: integer (nullable = true)\n",
      " |-- Cloud3pm: integer (nullable = true)\n",
      " |-- Temp9am: double (nullable = true)\n",
      " |-- Temp3pm: double (nullable = true)\n",
      " |-- RainToday: string (nullable = true)\n",
      " |-- RISK_MM: double (nullable = true)\n",
      " |-- RainTomorrow: integer (nullable = true)\n",
      "\n"
     ]
    }
   ],
   "source": [
    "df.printSchema()\n"
   ]
  },
  {
   "cell_type": "code",
   "execution_count": 5,
   "metadata": {},
   "outputs": [
    {
     "name": "stdout",
     "output_type": "stream",
     "text": [
      "+-------+---------+--------+-----------------+------------------+-----------------+-----------+--------+-----------+-----------------+----------+----------+-----------------+------------------+------------------+------------------+------------------+-----------------+------------------+------------------+------------------+------------------+---------+------------------+-------------------+\n",
      "|summary|     Date|Location|          MinTemp|           MaxTemp|         Rainfall|Evaporation|Sunshine|WindGustDir|    WindGustSpeed|WindDir9am|WindDir3pm|     WindSpeed9am|      WindSpeed3pm|       Humidity9am|       Humidity3pm|       Pressure9am|      Pressure3pm|          Cloud9am|          Cloud3pm|           Temp9am|           Temp3pm|RainToday|           RISK_MM|       RainTomorrow|\n",
      "+-------+---------+--------+-----------------+------------------+-----------------+-----------+--------+-----------+-----------------+----------+----------+-----------------+------------------+------------------+------------------+------------------+-----------------+------------------+------------------+------------------+------------------+---------+------------------+-------------------+\n",
      "|  count|     3011|    3011|             3005|              3010|             2991|          0|       0|       3001|             3001|      2494|      2969|             3007|              3004|              3007|              3007|              3011|             3007|              1282|              1415|              3007|              3007|     2991|              3011|               3011|\n",
      "|   mean|     null|    null| 9.52089850249585|22.630963455149466|1.925710464727508|       null|    null|       null|32.95301566144619|      null|      null|8.221815763219155|14.378828229027963| 74.10808114399734|  47.8849351513136|1018.3672534041829|1015.755503824411| 6.392355694227769|5.4197879858657245|14.348619886930468|21.364715663451904|     null|1.9143806044503409| 0.2052474261042843|\n",
      "| stddev|     null|    null|6.062028121409102| 7.796727807770898|6.249052178706374|       null|    null|       null|13.36216518393464|      null|      null|6.744531529385557| 7.196747273627734|17.437693222429417|19.833037180250496| 7.361457297984608|7.111793509613992|2.3881121607400155|2.8277576864927663| 6.373137126813551|  7.52547870798897|     null| 6.229974891558092|0.40394939432878113|\n",
      "|    min|2008/12/1|  Albury|             -2.8|               6.8|              0.0|       null|    null|          E|                9|         E|         E|                0|                 0|                18|                 7|             989.8|            982.9|                 0|                 1|               0.3|               6.4|       No|               0.0|                  0|\n",
      "|    max| 2017/6/9|  Albury|             28.3|              44.8|            104.2|       null|    null|        WSW|              107|       WSW|       WSW|               37|                50|               100|               100|            1039.9|           1036.1|                 8|                 8|              34.5|              43.4|      Yes|             104.2|                  1|\n",
      "+-------+---------+--------+-----------------+------------------+-----------------+-----------+--------+-----------+-----------------+----------+----------+-----------------+------------------+------------------+------------------+------------------+-----------------+------------------+------------------+------------------+------------------+---------+------------------+-------------------+\n",
      "\n"
     ]
    }
   ],
   "source": [
    "#2.3\n",
    "df.describe().show()\n"
   ]
  },
  {
   "cell_type": "code",
   "execution_count": 6,
   "metadata": {},
   "outputs": [
    {
     "name": "stdout",
     "output_type": "stream",
     "text": [
      "+--------------------+---+---+\n",
      "|MinTemp_RainTomorrow|  0|  1|\n",
      "+--------------------+---+---+\n",
      "|                21.2|  2|  0|\n",
      "|                20.4|  7|  2|\n",
      "|                null|  4|  2|\n",
      "|                 0.0|  7|  1|\n",
      "|                18.8|  8|  3|\n",
      "|                 9.1| 17|  3|\n",
      "|                10.2| 14|  3|\n",
      "|                16.7| 18|  1|\n",
      "|                15.3|  9|  1|\n",
      "|                 9.4| 11|  1|\n",
      "|                 3.9|  4|  2|\n",
      "|                 5.0| 15|  6|\n",
      "|                18.1|  8|  5|\n",
      "|                10.0| 25|  5|\n",
      "|                 7.8|  8|  5|\n",
      "|                13.7|  9|  0|\n",
      "|                 4.7| 15|  6|\n",
      "|                 7.6| 13|  3|\n",
      "|                18.2|  4|  1|\n",
      "|                 7.4| 14|  5|\n",
      "+--------------------+---+---+\n",
      "only showing top 20 rows\n",
      "\n",
      "+--------------------+---+---+\n",
      "|MaxTemp_RainTomorrow|  0|  1|\n",
      "+--------------------+---+---+\n",
      "|                31.6| 10|  0|\n",
      "|                21.2|  4|  0|\n",
      "|                25.9| 13|  1|\n",
      "|                37.1|  4|  0|\n",
      "|                25.3| 10|  1|\n",
      "|                20.4| 11|  4|\n",
      "|                null|  1|  0|\n",
      "|                18.8| 13|  0|\n",
      "|                 9.1|  0|  1|\n",
      "|                35.2|  8|  0|\n",
      "|                33.7|  8|  2|\n",
      "|                10.2|  2|  0|\n",
      "|                16.7| 12|  1|\n",
      "|                15.3| 15|  2|\n",
      "|                 9.4|  1|  2|\n",
      "|                34.8|  2|  0|\n",
      "|                38.9|  4|  0|\n",
      "|                34.4|  5|  0|\n",
      "|                38.3|  4|  0|\n",
      "|                18.1| 10|  0|\n",
      "+--------------------+---+---+\n",
      "only showing top 20 rows\n",
      "\n",
      "+--------------------+----+---+\n",
      "|RISK_MM_RainTomorrow|   0|  1|\n",
      "+--------------------+----+---+\n",
      "|                 0.0|2015|  0|\n",
      "|                18.8|   0|  2|\n",
      "|                10.2|   0|  6|\n",
      "|                 9.4|   0|  3|\n",
      "|                34.8|   0|  1|\n",
      "|                 5.0|   0| 12|\n",
      "|                10.0|   0|  3|\n",
      "|                28.6|   0|  1|\n",
      "|                 7.8|   0|  3|\n",
      "|                 7.6|   0|  4|\n",
      "|                 7.4|   0|  3|\n",
      "|                19.8|   0|  2|\n",
      "|                 3.8|   0| 14|\n",
      "|                15.8|   0|  2|\n",
      "|               104.2|   0|  1|\n",
      "|                15.6|   0|  2|\n",
      "|                33.6|   0|  2|\n",
      "|                31.2|   0|  1|\n",
      "|                14.0|   0|  1|\n",
      "|                66.2|   0|  1|\n",
      "+--------------------+----+---+\n",
      "only showing top 20 rows\n",
      "\n",
      "+---------------------+----+---+\n",
      "|Rainfall_RainTomorrow|   0|  1|\n",
      "+---------------------+----+---+\n",
      "|                 null|  17|  3|\n",
      "|                  0.0|1745|253|\n",
      "|                 18.8|   1|  1|\n",
      "|                 10.2|   5|  1|\n",
      "|                  9.4|   0|  3|\n",
      "|                 34.8|   1|  0|\n",
      "|                  5.0|   4|  8|\n",
      "|                 10.0|   2|  1|\n",
      "|                 28.6|   1|  0|\n",
      "|                  7.8|   2|  1|\n",
      "|                  7.6|   3|  1|\n",
      "|                  7.4|   2|  1|\n",
      "|                 19.8|   2|  0|\n",
      "|                  3.8|   5|  9|\n",
      "|                 15.8|   2|  0|\n",
      "|                104.2|   0|  1|\n",
      "|                 15.6|   0|  2|\n",
      "|                 33.6|   1|  1|\n",
      "|                 31.2|   1|  0|\n",
      "|                 14.0|   1|  0|\n",
      "+---------------------+----+---+\n",
      "only showing top 20 rows\n",
      "\n"
     ]
    }
   ],
   "source": [
    "df.crosstab('MinTemp', 'RainTomorrow').show()\n",
    "df.crosstab('MaxTemp', 'RainTomorrow').show()\n",
    "df.crosstab('RISK_MM', 'RainTomorrow').show()\n",
    "df.crosstab('Rainfall', 'RainTomorrow').show()\n"
   ]
  },
  {
   "cell_type": "code",
   "execution_count": 7,
   "metadata": {},
   "outputs": [
    {
     "data": {
      "text/plain": [
       "<Figure size 640x480 with 1 Axes>"
      ]
     },
     "metadata": {},
     "output_type": "display_data"
    },
    {
     "data": {
      "text/plain": [
       "<Figure size 640x480 with 1 Axes>"
      ]
     },
     "metadata": {},
     "output_type": "display_data"
    }
   ],
   "source": [
    "\n",
    "pre9=df.rdd.map(lambda x:x[15]).collect()\n",
    "import matplotlib.pyplot as plt\n",
    "plt.hist(pre9, bins=20, color='lightblue')\n",
    "plt.show()\n",
    "\n",
    "miT=df.rdd.map(lambda x:x[2]).collect()\n",
    "maT=df.rdd.map(lambda x:x[3]).collect()\n",
    "plt.plot(miT, color = \"#DC143C\", label = 'Minimum Temperature')\n",
    "plt.plot(maT, color = \"#104E8B\", label = 'Maximum Temperature')\n",
    "plt.legend()\n",
    "plt.show()\n",
    "\n"
   ]
  },
  {
   "cell_type": "code",
   "execution_count": 8,
   "metadata": {},
   "outputs": [],
   "source": [
    "#2.4\n",
    "import pyspark.sql.functions as pyfunc\n",
    "from functools import reduce\n",
    "df_agg_col = reduce(\n",
    "    lambda a, b: a.union(b),\n",
    "    (\n",
    "        df.agg(\n",
    "            pyfunc.count(pyfunc.when(pyfunc.isnull(c), c)).alias('NULL_Count')\n",
    "        ).select(pyfunc.lit(c).alias(\"Column_Name\"), \"NULL_Count\")\n",
    "        for c in df.columns\n",
    "    )\n",
    ")\n",
    "\n",
    "\n"
   ]
  },
  {
   "cell_type": "code",
   "execution_count": 9,
   "metadata": {},
   "outputs": [
    {
     "name": "stdout",
     "output_type": "stream",
     "text": [
      "+-------------+----------+\n",
      "|  Column_Name|NULL_Count|\n",
      "+-------------+----------+\n",
      "|         Date|         0|\n",
      "|     Location|         0|\n",
      "|      MinTemp|         6|\n",
      "|      MaxTemp|         1|\n",
      "|     Rainfall|        20|\n",
      "|  Evaporation|      3011|\n",
      "|     Sunshine|      3011|\n",
      "|  WindGustDir|        10|\n",
      "|WindGustSpeed|        10|\n",
      "|   WindDir9am|       517|\n",
      "|   WindDir3pm|        42|\n",
      "| WindSpeed9am|         4|\n",
      "| WindSpeed3pm|         7|\n",
      "|  Humidity9am|         4|\n",
      "|  Humidity3pm|         4|\n",
      "|  Pressure9am|         0|\n",
      "|  Pressure3pm|         4|\n",
      "|     Cloud9am|      1729|\n",
      "|     Cloud3pm|      1596|\n",
      "|      Temp9am|         4|\n",
      "|      Temp3pm|         4|\n",
      "|    RainToday|        20|\n",
      "|      RISK_MM|         0|\n",
      "| RainTomorrow|         0|\n",
      "+-------------+----------+\n",
      "\n"
     ]
    }
   ],
   "source": [
    "df_agg_col.show(len(df.columns))"
   ]
  },
  {
   "cell_type": "code",
   "execution_count": 10,
   "metadata": {},
   "outputs": [
    {
     "data": {
      "text/plain": [
       "'\\nfrom sklearn.cluster import KMeans\\nfrom sklearn.decomposition import PCA\\nfrom sklearn.preprocessing import Imputer\\n\\ndf_pd=df.toPandas(df)\\nwdf=weatherAul.drop([\"Location\",\"Date\",\"Evaporation\",\"Sunshine\",\"Cloud9am\",\"Cloud3pm\"],axis=1)\\nwdf=wdf.dropna(axis=0)\\nkmeans_model = KMeans(n_clusters=4,random_state=1)\\ngood_columns=wdf._get_numeric_data()\\nkmeans_model.fit(good_columns)\\nlabels=kmeans_model.labels_\\n'"
      ]
     },
     "execution_count": 10,
     "metadata": {},
     "output_type": "execute_result"
    }
   ],
   "source": [
    "'''\n",
    "from sklearn.cluster import KMeans\n",
    "from sklearn.decomposition import PCA\n",
    "from sklearn.preprocessing import Imputer\n",
    "\n",
    "df_pd=df.toPandas(df)\n",
    "wdf=weatherAul.drop([\"Location\",\"Date\",\"Evaporation\",\"Sunshine\",\"Cloud9am\",\"Cloud3pm\"],axis=1)\n",
    "wdf=wdf.dropna(axis=0)\n",
    "kmeans_model = KMeans(n_clusters=4,random_state=1)\n",
    "good_columns=wdf._get_numeric_data()\n",
    "kmeans_model.fit(good_columns)\n",
    "labels=kmeans_model.labels_\n",
    "'''"
   ]
  },
  {
   "cell_type": "code",
   "execution_count": 11,
   "metadata": {},
   "outputs": [],
   "source": [
    "from pyspark.ml.clustering import KMeans\n",
    "kmeans_model = KMeans(k=4,seed=1)\n",
    "\n",
    "\n"
   ]
  },
  {
   "cell_type": "code",
   "execution_count": null,
   "metadata": {},
   "outputs": [],
   "source": [
    "df.columns\n",
    "#2.3\n",
    "df.describe().show()\n",
    "df.printSchema()\n",
    "print(len(df.columns),df.count())\n",
    "\n",
    "df.crosstab('MinTemp', 'RainTomorrow').show()\n",
    "df.crosstab('MaxTemp', 'RainTomorrow').show()\n",
    "df.crosstab('RISK_MM', 'RainTomorrow').show()\n",
    "df.crosstab('Rainfall', 'RainTomorrow').show()\n",
    "\n",
    "\n",
    "pre9=df.rdd.map(lambda x:x[15]).collect()\n",
    "import matplotlib.pyplot as plt\n",
    "plt.hist(pre9, bins=20, color='lightblue')\n",
    "plt.show()\n",
    "\n",
    "miT=df.rdd.map(lambda x:x[2]).collect()\n",
    "maT=df.rdd.map(lambda x:x[3]).collect()\n",
    "plt.plot(miT, color = \"#DC143C\", label = 'Minimum Temperature')\n",
    "plt.plot(maT, color = \"#104E8B\", label = 'Maximum Temperature')\n",
    "plt.legend()\n",
    "plt.show()\n",
    "\n",
    "#2.4\n",
    "import pyspark.sql.functions as pyfunc\n",
    "from functools import reduce\n",
    "df_agg_col = reduce(\n",
    "    lambda a, b: a.union(b),\n",
    "    (\n",
    "        df.agg(\n",
    "            pyfunc.count(pyfunc.when(pyfunc.isnull(c), c)).alias('NULL_Count')\n",
    "        ).select(pyfunc.lit(c).alias(\"Column_Name\"), \"NULL_Count\")\n",
    "        for c in df.columns\n",
    "    )\n",
    ")\n",
    "\n",
    "df_agg_col.show(len(df.columns))\n",
    "\n",
    "\n"
   ]
  },
  {
   "cell_type": "code",
   "execution_count": 12,
   "metadata": {},
   "outputs": [
    {
     "data": {
      "text/plain": [
       "['MinTemp',\n",
       " 'MaxTemp',\n",
       " 'Rainfall',\n",
       " 'WindGustDir',\n",
       " 'WindGustSpeed',\n",
       " 'WindDir9am',\n",
       " 'WindDir3pm',\n",
       " 'WindSpeed9am',\n",
       " 'WindSpeed3pm',\n",
       " 'Humidity9am',\n",
       " 'Humidity3pm',\n",
       " 'Pressure9am',\n",
       " 'Pressure3pm',\n",
       " 'Cloud9am',\n",
       " 'Cloud3pm',\n",
       " 'Temp9am',\n",
       " 'Temp3pm',\n",
       " 'RainToday',\n",
       " 'RainTomorrow']"
      ]
     },
     "execution_count": 12,
     "metadata": {},
     "output_type": "execute_result"
    }
   ],
   "source": [
    "#3.1\n",
    "need_to_drop=[\"Date\",\"Location\",\"Evaporation\",\"Sunshine\",\"RISK_MM\"]\n",
    "df_drop1=df.drop(*need_to_drop)\n",
    "df_drop1.columns"
   ]
  },
  {
   "cell_type": "code",
   "execution_count": 13,
   "metadata": {},
   "outputs": [
    {
     "name": "stdout",
     "output_type": "stream",
     "text": [
      "+-------------+----------+\n",
      "|  Column_Name|NULL_Count|\n",
      "+-------------+----------+\n",
      "|      MinTemp|         6|\n",
      "|      MaxTemp|         1|\n",
      "|     Rainfall|        20|\n",
      "|  WindGustDir|        10|\n",
      "|WindGustSpeed|        10|\n",
      "|   WindDir9am|       517|\n",
      "|   WindDir3pm|        42|\n",
      "| WindSpeed9am|         4|\n",
      "| WindSpeed3pm|         7|\n",
      "|  Humidity9am|         4|\n",
      "|  Humidity3pm|         4|\n",
      "|  Pressure9am|         0|\n",
      "|  Pressure3pm|         4|\n",
      "|     Cloud9am|      1729|\n",
      "|     Cloud3pm|      1596|\n",
      "|      Temp9am|         4|\n",
      "|      Temp3pm|         4|\n",
      "|    RainToday|        20|\n",
      "| RainTomorrow|         0|\n",
      "+-------------+----------+\n",
      "\n"
     ]
    }
   ],
   "source": [
    "\n",
    "#3.2\n",
    "df_agg_col2 = reduce(\n",
    "    lambda a, b: a.union(b),\n",
    "    (\n",
    "        df_drop1.agg(\n",
    "            pyfunc.count(pyfunc.when(pyfunc.isnull(c), c)).alias('NULL_Count')\n",
    "        ).select(pyfunc.lit(c).alias(\"Column_Name\"), \"NULL_Count\")\n",
    "        for c in df_drop1.columns\n",
    "    )\n",
    ")\n",
    "df_agg_col2.show()"
   ]
  },
  {
   "cell_type": "code",
   "execution_count": 14,
   "metadata": {},
   "outputs": [
    {
     "data": {
      "text/plain": [
       "2440"
      ]
     },
     "execution_count": 14,
     "metadata": {},
     "output_type": "execute_result"
    }
   ],
   "source": [
    "\n",
    "need_to_drop2=[\"Cloud9am\",\"Cloud3pm\"]\n",
    "df_drop2=df_drop1.drop(*need_to_drop2).na.drop()\n",
    "df_drop2.count()\n",
    "\n"
   ]
  },
  {
   "cell_type": "code",
   "execution_count": 15,
   "metadata": {},
   "outputs": [
    {
     "name": "stdout",
     "output_type": "stream",
     "text": [
      "+-------------+----------+\n",
      "|  Column_Name|NULL_Count|\n",
      "+-------------+----------+\n",
      "|      MinTemp|         0|\n",
      "|      MaxTemp|         0|\n",
      "|     Rainfall|         0|\n",
      "|  WindGustDir|         0|\n",
      "|WindGustSpeed|         0|\n",
      "|   WindDir9am|         0|\n",
      "|   WindDir3pm|         0|\n",
      "| WindSpeed9am|         0|\n",
      "| WindSpeed3pm|         0|\n",
      "|  Humidity9am|         0|\n",
      "|  Humidity3pm|         0|\n",
      "|  Pressure9am|         0|\n",
      "|  Pressure3pm|         0|\n",
      "|      Temp9am|         0|\n",
      "|      Temp3pm|         0|\n",
      "|    RainToday|         0|\n",
      "| RainTomorrow|         0|\n",
      "+-------------+----------+\n",
      "\n"
     ]
    }
   ],
   "source": [
    "\n",
    "df_agg_col3 = reduce(\n",
    "    lambda a, b: a.union(b),\n",
    "    (\n",
    "        df_drop2.agg(\n",
    "            pyfunc.count(pyfunc.when(pyfunc.isnull(c), c)).alias('NULL_Count')\n",
    "        ).select(pyfunc.lit(c).alias(\"Column_Name\"), \"NULL_Count\")\n",
    "        for c in df_drop2.columns\n",
    "    )\n",
    ")\n",
    "df_agg_col3.show()"
   ]
  },
  {
   "cell_type": "code",
   "execution_count": 16,
   "metadata": {},
   "outputs": [
    {
     "name": "stdout",
     "output_type": "stream",
     "text": [
      "17 2440\n"
     ]
    }
   ],
   "source": [
    "\n",
    "print(len(df_drop2.columns),df_drop2.count())\n"
   ]
  },
  {
   "cell_type": "code",
   "execution_count": 17,
   "metadata": {},
   "outputs": [
    {
     "name": "stdout",
     "output_type": "stream",
     "text": [
      "17 2438\n"
     ]
    }
   ],
   "source": [
    "df_filter1=df_drop2.filter(df.Rainfall <= 80)\n",
    "print(len(df_filter1.columns),df_filter1.count())\n"
   ]
  },
  {
   "cell_type": "code",
   "execution_count": 18,
   "metadata": {},
   "outputs": [
    {
     "name": "stdout",
     "output_type": "stream",
     "text": [
      "+-------+------------------+------------------+------------------+-------------------+\n",
      "|summary|             Min01|             Max01|             Mgs01|               RF01|\n",
      "+-------+------------------+------------------+------------------+-------------------+\n",
      "|  count|              2438|              2438|              2438|               2438|\n",
      "|   mean|0.4971287940935193|0.5036915504511895| 0.470467596390484|0.18416735028712058|\n",
      "| stddev|  0.50009432904157|0.5000889440979502|0.4992294706834705|0.38770013017811117|\n",
      "|    min|                 0|                 0|                 0|                  0|\n",
      "|    max|                 1|                 1|                 1|                  1|\n",
      "+-------+------------------+------------------+------------------+-------------------+\n",
      "\n"
     ]
    }
   ],
   "source": [
    "\n",
    "#3.3\n",
    "\n",
    "df_filter2=df_filter1.withColumn(\"Min01\",pyfunc.when(df_filter1.MinTemp <= 10,0).otherwise(1))\n",
    "df_filter3=df_filter2.withColumn(\"Max01\",pyfunc.when(df_filter2.MaxTemp <= 23,0).otherwise(1))\n",
    "df_filter4=df_filter3.withColumn(\"Mgs01\",pyfunc.when(df_filter3.WindGustSpeed <= 34,0).otherwise(1))\n",
    "df_filter5=df_filter4.withColumn(\"RF01\",pyfunc.when(df_filter4.Rainfall <= 2,0).otherwise(1))\n",
    "\n",
    "df_filter5.select(*[\"Min01\",\"Max01\",\"Mgs01\",\"RF01\"]).describe().show()\n"
   ]
  },
  {
   "cell_type": "code",
   "execution_count": 19,
   "metadata": {},
   "outputs": [
    {
     "name": "stdout",
     "output_type": "stream",
     "text": [
      "21 2438\n"
     ]
    }
   ],
   "source": [
    "print(len(df_filter5.columns),df_filter5.count())\n",
    "\n"
   ]
  },
  {
   "cell_type": "code",
   "execution_count": 20,
   "metadata": {},
   "outputs": [
    {
     "name": "stderr",
     "output_type": "stream",
     "text": [
      "/home/ubuntu/spark-2.1.1-bin-hadoop2.7/python/pyspark/sql/session.py:340: UserWarning: Using RDD of dict to inferSchema is deprecated. Use pyspark.sql.Row instead\n",
      "  warnings.warn(\"Using RDD of dict to inferSchema is deprecated. \"\n"
     ]
    }
   ],
   "source": [
    "\n",
    "#3.4\n",
    "\n",
    "from pyspark import SparkContext\n",
    "sc = SparkContext.getOrCreate()\n",
    "\n",
    "old = sc.parallelize([\n",
    "    {\"id\": 1, \"value1\": 10},\n",
    "    {\"id\": 2, \"value1\": 20},\n",
    "    {\"id\": 2, \"value1\": 30},\n",
    "    {\"id\": 3, \"value1\": 30},\n",
    "    {\"id\": 1, \"value1\": 30}\n",
    "]).toDF()\n",
    "new = sc.parallelize([\n",
    "    {\"id\": 1, \"value2\": 25},\n",
    "    {\"id\": 2, \"value2\": 45}\n",
    "]).toDF()\n"
   ]
  },
  {
   "cell_type": "code",
   "execution_count": 21,
   "metadata": {},
   "outputs": [
    {
     "name": "stdout",
     "output_type": "stream",
     "text": [
      "+---+------+\n",
      "| id|value1|\n",
      "+---+------+\n",
      "|  1|    10|\n",
      "|  2|    20|\n",
      "|  2|    30|\n",
      "|  3|    30|\n",
      "|  1|    30|\n",
      "+---+------+\n",
      "\n"
     ]
    }
   ],
   "source": [
    "old.show()"
   ]
  },
  {
   "cell_type": "code",
   "execution_count": 22,
   "metadata": {},
   "outputs": [
    {
     "name": "stdout",
     "output_type": "stream",
     "text": [
      "+---+------+\n",
      "| id|value2|\n",
      "+---+------+\n",
      "|  1|    25|\n",
      "|  2|    45|\n",
      "+---+------+\n",
      "\n"
     ]
    }
   ],
   "source": [
    "new.show()"
   ]
  },
  {
   "cell_type": "code",
   "execution_count": 23,
   "metadata": {},
   "outputs": [
    {
     "name": "stdout",
     "output_type": "stream",
     "text": [
      "+---+------+------+\n",
      "| id|value1|value2|\n",
      "+---+------+------+\n",
      "|  1|    10|    25|\n",
      "|  1|    30|    25|\n",
      "|  2|    20|    45|\n",
      "|  2|    30|    45|\n",
      "+---+------+------+\n",
      "\n"
     ]
    }
   ],
   "source": [
    "unionDF = old.join(new,[\"id\"],\"inner\")\n",
    "unionDF.show()"
   ]
  },
  {
   "cell_type": "code",
   "execution_count": 24,
   "metadata": {},
   "outputs": [],
   "source": [
    "df_temp1 = df_filter5.withColumn('rand', pyfunc.rand(seed=42))\n",
    "df_temp2=df_temp1.orderBy(df_temp1.rand)\n",
    "\n",
    "# 删除随机数的一列\n",
    "df_rnd1 = df_temp2.drop(df_temp2.rand)\n"
   ]
  },
  {
   "cell_type": "code",
   "execution_count": 25,
   "metadata": {},
   "outputs": [
    {
     "name": "stdout",
     "output_type": "stream",
     "text": [
      "21 2438\n",
      "+-------+-------+--------+\n",
      "|MinTemp|MaxTemp|Rainfall|\n",
      "+-------+-------+--------+\n",
      "|   13.4|   22.9|     0.6|\n",
      "|    7.4|   25.1|     0.0|\n",
      "|   12.9|   25.7|     0.0|\n",
      "|    9.2|   28.0|     0.0|\n",
      "|   17.5|   32.3|     1.0|\n",
      "+-------+-------+--------+\n",
      "only showing top 5 rows\n",
      "\n",
      "+-------+-------+--------+\n",
      "|MinTemp|MaxTemp|Rainfall|\n",
      "+-------+-------+--------+\n",
      "|   12.6|   17.8|     4.0|\n",
      "|    2.7|   17.1|    33.4|\n",
      "|   16.4|   31.9|     0.0|\n",
      "|    0.9|   11.4|     0.2|\n",
      "|   11.4|   13.8|     0.6|\n",
      "+-------+-------+--------+\n",
      "only showing top 5 rows\n",
      "\n"
     ]
    }
   ],
   "source": [
    "print(len(df_rnd1.columns),df_rnd1.count())\n",
    "df.select(['MinTemp','MaxTemp','Rainfall']).show(5)\n",
    "df_rnd1.select(['MinTemp','MaxTemp','Rainfall']).show(5)"
   ]
  },
  {
   "cell_type": "code",
   "execution_count": 26,
   "metadata": {},
   "outputs": [
    {
     "data": {
      "text/plain": [
       "[0.05355553045243861,\n",
       " -0.23530438283501917,\n",
       " 0.21388701401627971,\n",
       " 0.27667305406145504,\n",
       " 0.16337174845768476,\n",
       " 0.12833290765519012,\n",
       " 0.25622465337204037,\n",
       " 0.498175635706858,\n",
       " -0.29253249230367007,\n",
       " -0.31454794083745713,\n",
       " -0.07333703857397209,\n",
       " -0.26569688170156397,\n",
       " 1.0,\n",
       " -0.00996387480332999,\n",
       " -0.19246562717919927,\n",
       " 0.161942538962172,\n",
       " 0.2916973262877858]"
      ]
     },
     "execution_count": 26,
     "metadata": {},
     "output_type": "execute_result"
    }
   ],
   "source": [
    "\n",
    "\n",
    "df_rnd2=df_rnd1.drop(*[\"WindGustDir\",\"WindDir9am\",\"WindDir3pm\",\"RainToday\"])\n",
    "\n",
    "[df_rnd2.corr(\"RainTomorrow\",x) for x in df_rnd2.columns]"
   ]
  },
  {
   "cell_type": "code",
   "execution_count": 27,
   "metadata": {},
   "outputs": [
    {
     "data": {
      "text/plain": [
       "['MinTemp',\n",
       " 'MaxTemp',\n",
       " 'Rainfall',\n",
       " 'WindGustSpeed',\n",
       " 'WindSpeed9am',\n",
       " 'WindSpeed3pm',\n",
       " 'Humidity9am',\n",
       " 'Humidity3pm',\n",
       " 'Pressure9am',\n",
       " 'Pressure3pm',\n",
       " 'Temp9am',\n",
       " 'Temp3pm',\n",
       " 'RainTomorrow',\n",
       " 'Min01',\n",
       " 'Max01',\n",
       " 'Mgs01',\n",
       " 'RF01']"
      ]
     },
     "execution_count": 27,
     "metadata": {},
     "output_type": "execute_result"
    }
   ],
   "source": [
    "df_rnd2.columns"
   ]
  },
  {
   "cell_type": "code",
   "execution_count": 28,
   "metadata": {},
   "outputs": [
    {
     "name": "stdout",
     "output_type": "stream",
     "text": [
      "14 2438\n"
     ]
    },
    {
     "data": {
      "text/plain": [
       "['MinTemp',\n",
       " 'Rainfall',\n",
       " 'WindGustDir',\n",
       " 'WindGustSpeed',\n",
       " 'WindDir9am',\n",
       " 'WindDir3pm',\n",
       " 'WindSpeed9am',\n",
       " 'WindSpeed3pm',\n",
       " 'Humidity9am',\n",
       " 'Humidity3pm',\n",
       " 'RainToday',\n",
       " 'RainTomorrow',\n",
       " 'Mgs01',\n",
       " 'RF01']"
      ]
     },
     "execution_count": 28,
     "metadata": {},
     "output_type": "execute_result"
    }
   ],
   "source": [
    "df_f=df_rnd1.drop(*[\"MaxTemp\",\"Pressure9am\",\"Pressure3pm\",\"Temp9am\",\"Temp3pm\",\"Min01\",\"Max01\"])\n",
    "print(len(df_f.columns),df_f.count())\n",
    "df_f.columns"
   ]
  },
  {
   "cell_type": "code",
   "execution_count": 29,
   "metadata": {},
   "outputs": [
    {
     "data": {
      "image/png": "[encoded data removed]",
      "text/plain": [
       "<Figure size 432x288 with 1 Axes>"
      ]
     },
     "metadata": {},
     "output_type": "display_data"
    }
   ],
   "source": [
    "RT=df_f.rdd.map(lambda x:x[8]).collect()\n",
    "plt.hist(RT,color='lightblue')\n",
    "plt.show()"
   ]
  },
  {
   "cell_type": "code",
   "execution_count": 30,
   "metadata": {},
   "outputs": [
    {
     "data": {
      "image/png": "[encoded data removed]",
      "text/plain": [
       "<Figure size 432x288 with 1 Axes>"
      ]
     },
     "metadata": {},
     "output_type": "display_data"
    }
   ],
   "source": [
    "import numpy as np\n",
    "RT1=np.log(RT)\n",
    "plt.hist(RT1,color='lightblue')\n",
    "plt.show()"
   ]
  },
  {
   "cell_type": "code",
   "execution_count": 31,
   "metadata": {},
   "outputs": [
    {
     "data": {
      "image/png": "[encoded data removed]",
      "text/plain": [
       "<Figure size 432x288 with 1 Axes>"
      ]
     },
     "metadata": {},
     "output_type": "display_data"
    }
   ],
   "source": [
    "W9=df_f.rdd.map(lambda x:x[6]).collect()\n",
    "plt.hist(W9,color='lightblue')\n",
    "plt.show()"
   ]
  },
  {
   "cell_type": "code",
   "execution_count": 32,
   "metadata": {},
   "outputs": [
    {
     "data": {
      "image/png": "[encoded data removed]",
      "text/plain": [
       "<Figure size 432x288 with 1 Axes>"
      ]
     },
     "metadata": {},
     "output_type": "display_data"
    }
   ],
   "source": [
    "W91=np.log(W9)\n",
    "plt.hist(W91,color='lightblue')\n",
    "plt.show()"
   ]
  },
  {
   "cell_type": "code",
   "execution_count": 33,
   "metadata": {},
   "outputs": [],
   "source": [
    "\n",
    "Rtt=df_f.rdd.map(lambda x:x[11]).collect()"
   ]
  },
  {
   "cell_type": "code",
   "execution_count": 34,
   "metadata": {},
   "outputs": [
    {
     "data": {
      "image/png": "[encoded data removed]",
      "text/plain": [
       "<Figure size 432x288 with 1 Axes>"
      ]
     },
     "metadata": {},
     "output_type": "display_data"
    }
   ],
   "source": [
    "plt.hist(Rtt,color='lightblue')\n",
    "plt.show()"
   ]
  },
  {
   "cell_type": "code",
   "execution_count": 35,
   "metadata": {},
   "outputs": [
    {
     "data": {
      "text/plain": [
       "['MinTemp',\n",
       " 'Rainfall',\n",
       " 'WindGustDir',\n",
       " 'WindGustSpeed',\n",
       " 'WindDir9am',\n",
       " 'WindDir3pm',\n",
       " 'WindSpeed9am',\n",
       " 'WindSpeed3pm',\n",
       " 'Humidity9am',\n",
       " 'Humidity3pm',\n",
       " 'RainToday',\n",
       " 'RainTomorrow',\n",
       " 'Mgs01',\n",
       " 'RF01']"
      ]
     },
     "execution_count": 35,
     "metadata": {},
     "output_type": "execute_result"
    }
   ],
   "source": [
    "df_f.columns"
   ]
  },
  {
   "cell_type": "code",
   "execution_count": 36,
   "metadata": {},
   "outputs": [],
   "source": [
    "from pyspark.ml.linalg import Vectors\n",
    "from pyspark.ml.feature import VectorAssembler\n"
   ]
  },
  {
   "cell_type": "code",
   "execution_count": 37,
   "metadata": {},
   "outputs": [],
   "source": [
    "\n",
    "from pyspark.ml.feature import StringIndexer\n",
    "indexerD = StringIndexer(inputCol=\"WindGustDir\", outputCol=\"Index1\")\n",
    "df_f1=indexerD.fit(df_f).transform(df_f)\n",
    "indexerD9 = StringIndexer(inputCol=\"WindDir9am\", outputCol=\"Index2\")\n",
    "df_f2=indexerD9.fit(df_f1).transform(df_f1)\n",
    "indexerD3 = StringIndexer(inputCol=\"WindDir3pm\", outputCol=\"Index3\")\n",
    "df_f3=indexerD3.fit(df_f2).transform(df_f2)\n",
    "indexerRT = StringIndexer(inputCol=\"RainToday\", outputCol=\"Index4\")\n",
    "df_f4=indexerRT.fit(df_f3).transform(df_f3)\n",
    "\n"
   ]
  },
  {
   "cell_type": "code",
   "execution_count": 38,
   "metadata": {},
   "outputs": [],
   "source": [
    "assembler = VectorAssembler(\n",
    "  inputCols=['MinTemp',\n",
    "             'Rainfall',\n",
    "             'WindGustSpeed',\n",
    "             'WindSpeed9am',\n",
    "             'WindSpeed3pm',\n",
    "             'Humidity9am',\n",
    "             'Humidity3pm',\n",
    "             'Mgs01',\n",
    "             'RF01',\n",
    "             'Index1',\n",
    "             'Index2',\n",
    "             'Index3',\n",
    "             'Index4'],\n",
    "              outputCol=\"features\")\n"
   ]
  },
  {
   "cell_type": "code",
   "execution_count": 39,
   "metadata": {},
   "outputs": [],
   "source": [
    "output = assembler.transform(df_f4)"
   ]
  },
  {
   "cell_type": "code",
   "execution_count": 40,
   "metadata": {},
   "outputs": [],
   "source": [
    "df_fit=output.select(\"features\",\"RainTomorrow\")"
   ]
  },
  {
   "cell_type": "code",
   "execution_count": 41,
   "metadata": {},
   "outputs": [
    {
     "name": "stdout",
     "output_type": "stream",
     "text": [
      "+--------------------+------------+\n",
      "|            features|RainTomorrow|\n",
      "+--------------------+------------+\n",
      "|[12.6,4.0,50.0,20...|           1|\n",
      "|[2.7,33.4,31.0,6....|           0|\n",
      "|[16.4,0.0,46.0,9....|           0|\n",
      "|[0.9,0.2,15.0,7.0...|           0|\n",
      "|[11.4,0.6,30.0,15...|           1|\n",
      "|[5.2,0.0,28.0,6.0...|           0|\n",
      "|(13,[0,2,3,4,5,6,...|           0|\n",
      "|[14.3,0.0,50.0,20...|           0|\n",
      "|[9.3,0.0,52.0,30....|           1|\n",
      "|[5.0,1.4,52.0,9.0...|           0|\n",
      "|[9.0,0.2,63.0,13....|           1|\n",
      "|[8.2,0.0,39.0,6.0...|           0|\n",
      "|[5.4,0.0,39.0,11....|           0|\n",
      "|[15.4,0.4,30.0,11...|           1|\n",
      "|[10.4,0.0,48.0,30...|           0|\n",
      "|[5.8,17.2,69.0,31...|           1|\n",
      "|[10.1,0.0,67.0,30...|           0|\n",
      "|[11.9,0.0,20.0,4....|           0|\n",
      "|[18.7,0.0,31.0,19...|           1|\n",
      "|[13.2,0.0,35.0,11...|           0|\n",
      "+--------------------+------------+\n",
      "only showing top 20 rows\n",
      "\n"
     ]
    }
   ],
   "source": [
    "df_fit.show()"
   ]
  },
  {
   "cell_type": "code",
   "execution_count": 42,
   "metadata": {},
   "outputs": [],
   "source": [
    "train_data,test_data = df_fit.randomSplit([0.8,0.2],seed=\"822\")"
   ]
  },
  {
   "cell_type": "code",
   "execution_count": 43,
   "metadata": {},
   "outputs": [],
   "source": [
    "from pyspark.ml.classification import DecisionTreeClassifier,GBTClassifier,RandomForestClassifier\n",
    "from pyspark.ml import Pipeline"
   ]
  },
  {
   "cell_type": "code",
   "execution_count": 44,
   "metadata": {},
   "outputs": [],
   "source": [
    "# Use defaults to make the comparison \"fair\". This simplifies the comparison process.\n",
    "\n",
    "dtc = DecisionTreeClassifier(maxDepth=8,labelCol='RainTomorrow',featuresCol='features', impurity=\"gini\")\n",
    "#rfc = RandomForestClassifier(labelCol='RainTomorrow',featuresCol='features')\n",
    "#gbt = GBTClassifier(labelCol='RainTomorrow',featuresCol='features')"
   ]
  },
  {
   "cell_type": "code",
   "execution_count": 45,
   "metadata": {},
   "outputs": [],
   "source": [
    "# Train the models (it's three models, so it might take some time).\n",
    "dtc_model = dtc.fit(train_data)\n",
    "#rfc_model = rfc.fit(train_data)\n",
    "#gbt_model = gbt.fit(train_data)"
   ]
  },
  {
   "cell_type": "code",
   "execution_count": 46,
   "metadata": {},
   "outputs": [],
   "source": [
    "dtc_predictions = dtc_model.transform(test_data)\n",
    "#rfc_predictions = rfc_model.transform(test_data)\n",
    "#gbt_predictions = gbt_model.transform(test_data)"
   ]
  },
  {
   "cell_type": "code",
   "execution_count": 47,
   "metadata": {},
   "outputs": [
    {
     "name": "stdout",
     "output_type": "stream",
     "text": [
      "DTC\n",
      "0.6840277777777778\n"
     ]
    }
   ],
   "source": [
    "# Let's start off with binary classification.\n",
    "from pyspark.ml.evaluation import BinaryClassificationEvaluator\n",
    "\n",
    "# Note that the label column isn't named label, it's named PrivateIndex in this case.\n",
    "my_binary_eval = BinaryClassificationEvaluator(labelCol = 'RainTomorrow')\n",
    "\n",
    "# This is the area under the curve. This indicates that the data is highly seperable.\n",
    "print(\"DTC\")\n",
    "print(my_binary_eval.evaluate(dtc_predictions))\n",
    "\n",
    "# RFC improves accuracy but also model complexity. RFC outperforms DTC in nearly every situation.\n",
    "#print(\"RFC\")\n",
    "#print(my_binary_eval.evaluate(rfc_predictions))\n",
    "\n",
    "# We can't repeat these exact steps for GBT. If you print the schema of all three, you may be able to notice why.\n",
    "# Instead, let's redefine the object:\n",
    "#my_binary_gbt_eval = BinaryClassificationEvaluator(labelCol='RainTomorrow', rawPredictionCol='prediction')\n",
    "#print(\"GBT\")\n",
    "#print(my_binary_gbt_eval.evaluate(gbt_predictions))"
   ]
  },
  {
   "cell_type": "code",
   "execution_count": 48,
   "metadata": {},
   "outputs": [],
   "source": [
    "from pyspark.ml.evaluation import MulticlassClassificationEvaluator\n",
    "acc_evaluator = MulticlassClassificationEvaluator(labelCol=\"RainTomorrow\", predictionCol=\"prediction\", metricName=\"accuracy\")"
   ]
  },
  {
   "cell_type": "code",
   "execution_count": 49,
   "metadata": {},
   "outputs": [
    {
     "name": "stdout",
     "output_type": "stream",
     "text": [
      "A single decision tree has an accuracy of: 88.25%\n",
      "----------------------------------------\n"
     ]
    }
   ],
   "source": [
    "dtc_acc = acc_evaluator.evaluate(dtc_predictions)\n",
    "#rfc_acc = acc_evaluator.evaluate(rfc_predictions)\n",
    "#gbt_acc = acc_evaluator.evaluate(gbt_predictions)\n",
    "\n",
    "#print(\"Here are the results!\")\n",
    "#print('-'*40)\n",
    "print('A single decision tree has an accuracy of: {0:2.2f}%'.format(dtc_acc*100))\n",
    "print('-'*40)\n",
    "#print('A random forest ensemble has an accuracy of: {0:2.2f}%'.format(rfc_acc*100))\n",
    "#print('-'*40)\n",
    "#print('An ensemble using GBT has an accuracy of: {0:2.2f}%'.format(gbt_acc*100))"
   ]
  },
  {
   "cell_type": "code",
   "execution_count": 50,
   "metadata": {},
   "outputs": [
    {
     "name": "stdout",
     "output_type": "stream",
     "text": [
      "DecisionTreeClassificationModel (uid=DecisionTreeClassifier_4173b657a3b1e64d43ad) of depth 8 with 177 nodes\n",
      "+------------+----------+\n",
      "|RainTomorrow|prediction|\n",
      "+------------+----------+\n",
      "|           0|       0.0|\n",
      "|           0|       0.0|\n",
      "|           0|       1.0|\n",
      "|           0|       0.0|\n",
      "|           0|       0.0|\n",
      "|           1|       1.0|\n",
      "|           1|       1.0|\n",
      "|           0|       0.0|\n",
      "|           0|       0.0|\n",
      "|           0|       0.0|\n",
      "|           1|       1.0|\n",
      "|           0|       0.0|\n",
      "|           0|       0.0|\n",
      "|           0|       0.0|\n",
      "|           0|       0.0|\n",
      "|           0|       0.0|\n",
      "|           0|       0.0|\n",
      "|           1|       1.0|\n",
      "|           0|       0.0|\n",
      "|           0|       0.0|\n",
      "+------------+----------+\n",
      "only showing top 20 rows\n",
      "\n"
     ]
    }
   ],
   "source": [
    "print(dtc_model)\n",
    "\n",
    "dtc_predictions.select([\"RainTomorrow\",\"prediction\"]).show()"
   ]
  },
  {
   "cell_type": "code",
   "execution_count": 51,
   "metadata": {},
   "outputs": [],
   "source": [
    "TP = dtc_predictions.filter(dtc_predictions['prediction'] == 1).filter(dtc_predictions['RainTomorrow'] == 1).count()\n",
    "FN = dtc_predictions.filter(dtc_predictions['prediction'] == 0).filter(dtc_predictions['RainTomorrow'] == 1).count()\n",
    "TN = dtc_predictions.filter(dtc_predictions['prediction'] == 0).filter(dtc_predictions['RainTomorrow'] == 0).count()\n",
    "FP = dtc_predictions.filter(dtc_predictions['prediction'] == 1).filter(dtc_predictions['RainTomorrow'] == 0).count()"
   ]
  },
  {
   "cell_type": "code",
   "execution_count": 52,
   "metadata": {},
   "outputs": [
    {
     "name": "stderr",
     "output_type": "stream",
     "text": [
      "/home/ubuntu/spark-2.1.1-bin-hadoop2.7/python/pyspark/sql/session.py:340: UserWarning: Using RDD of dict to inferSchema is deprecated. Use pyspark.sql.Row instead\n",
      "  warnings.warn(\"Using RDD of dict to inferSchema is deprecated. \"\n"
     ]
    }
   ],
   "source": [
    "conf_mat = sc.parallelize([\n",
    "    {\"Positive\": TP, \"Negative\": FP,\"Matrix\":\"Positive\"},\n",
    "    {\"Positive\": FN, \"Negative\": TN,\"Matrix\":\"Negative\"}\n",
    "]).toDF()"
   ]
  },
  {
   "cell_type": "code",
   "execution_count": 53,
   "metadata": {},
   "outputs": [
    {
     "name": "stdout",
     "output_type": "stream",
     "text": [
      "+--------+--------+--------+\n",
      "|  Matrix|Negative|Positive|\n",
      "+--------+--------+--------+\n",
      "|Positive|      20|      61|\n",
      "|Negative|     352|      35|\n",
      "+--------+--------+--------+\n",
      "\n"
     ]
    }
   ],
   "source": [
    "conf_mat.show()"
   ]
  },
  {
   "cell_type": "code",
   "execution_count": 54,
   "metadata": {},
   "outputs": [],
   "source": [
    "dtc2 = DecisionTreeClassifier(maxDepth=5, labelCol=\"RainTomorrow\" , featuresCol=\"features\", impurity=\"gini\")\n",
    "dtc_model2 = dtc2.fit(train_data)\n",
    "dtc_predictions2 = dtc_model2.transform(test_data)\n",
    "\n",
    "dtc_acc2 = acc_evaluator.evaluate(dtc_predictions2)\n"
   ]
  },
  {
   "cell_type": "code",
   "execution_count": 55,
   "metadata": {},
   "outputs": [
    {
     "name": "stdout",
     "output_type": "stream",
     "text": [
      "A single decision tree has an accuracy of: 87.82%\n",
      "----------------------------------------\n",
      "0.8782051282051282 DecisionTreeClassificationModel (uid=DecisionTreeClassifier_4dc8a7ce35b2d018e6f7) of depth 5 with 47 nodes\n",
      "0.8824786324786325 DecisionTreeClassificationModel (uid=DecisionTreeClassifier_4173b657a3b1e64d43ad) of depth 8 with 177 nodes\n"
     ]
    }
   ],
   "source": [
    "print('A single decision tree has an accuracy of: {0:2.2f}%'.format(dtc_acc2*100))\n",
    "print('-'*40)\n",
    "print(dtc_acc2,dtc_model2)\n",
    "print(dtc_acc,dtc_model)"
   ]
  },
  {
   "cell_type": "code",
   "execution_count": 69,
   "metadata": {},
   "outputs": [
    {
     "ename": "ImportError",
     "evalue": "cannot import name 'CurveMetrics'",
     "output_type": "error",
     "traceback": [
      "\u001b[0;31m---------------------------------------------------------------------------\u001b[0m",
      "\u001b[0;31mImportError\u001b[0m                               Traceback (most recent call last)",
      "\u001b[0;32m<ipython-input-69-5e12c46dc649>\u001b[0m in \u001b[0;36m<module>\u001b[0;34m()\u001b[0m\n\u001b[0;32m----> 1\u001b[0;31m \u001b[0;32mfrom\u001b[0m \u001b[0mpyspark\u001b[0m \u001b[0;32mimport\u001b[0m \u001b[0mCurveMetrics\u001b[0m\u001b[0;34m\u001b[0m\u001b[0m\n\u001b[0m\u001b[1;32m      2\u001b[0m \u001b[0mpreds\u001b[0m \u001b[0;34m=\u001b[0m \u001b[0mdtc_predictions\u001b[0m\u001b[0;34m.\u001b[0m\u001b[0mselect\u001b[0m\u001b[0;34m(\u001b[0m\u001b[0;34m'RainTomorrow'\u001b[0m\u001b[0;34m,\u001b[0m\u001b[0;34m'prediction'\u001b[0m\u001b[0;34m)\u001b[0m\u001b[0;34m.\u001b[0m\u001b[0mrdd\u001b[0m\u001b[0;34m.\u001b[0m\u001b[0mmap\u001b[0m\u001b[0;34m(\u001b[0m\u001b[0;32mlambda\u001b[0m \u001b[0mrow\u001b[0m\u001b[0;34m:\u001b[0m \u001b[0;34m(\u001b[0m\u001b[0mfloat\u001b[0m\u001b[0;34m(\u001b[0m\u001b[0mrow\u001b[0m\u001b[0;34m[\u001b[0m\u001b[0;34m'prediction'\u001b[0m\u001b[0;34m]\u001b[0m\u001b[0;34m[\u001b[0m\u001b[0;36m1\u001b[0m\u001b[0;34m]\u001b[0m\u001b[0;34m)\u001b[0m\u001b[0;34m,\u001b[0m \u001b[0mfloat\u001b[0m\u001b[0;34m(\u001b[0m\u001b[0mrow\u001b[0m\u001b[0;34m[\u001b[0m\u001b[0;34m'RainTomorrow'\u001b[0m\u001b[0;34m]\u001b[0m\u001b[0;34m)\u001b[0m\u001b[0;34m)\u001b[0m\u001b[0;34m)\u001b[0m\u001b[0;34m\u001b[0m\u001b[0m\n\u001b[1;32m      3\u001b[0m \u001b[0mroc\u001b[0m \u001b[0;34m=\u001b[0m \u001b[0mCurveMetrics\u001b[0m\u001b[0;34m(\u001b[0m\u001b[0mpreds\u001b[0m\u001b[0;34m)\u001b[0m\u001b[0;34m.\u001b[0m\u001b[0mget_curve\u001b[0m\u001b[0;34m(\u001b[0m\u001b[0;34m'roc'\u001b[0m\u001b[0;34m)\u001b[0m\u001b[0;34m\u001b[0m\u001b[0m\n",
      "\u001b[0;31mImportError\u001b[0m: cannot import name 'CurveMetrics'"
     ]
    }
   ],
   "source": []
  }
 ],
 "metadata": {
  "celltoolbar": "Raw Cell Format",
  "kernelspec": {
   "display_name": "Python 3",
   "language": "python",
   "name": "python3"
  },
  "language_info": {
   "codemirror_mode": {
    "name": "ipython",
    "version": 3
   },
   "file_extension": ".py",
   "mimetype": "text/x-python",
   "name": "python",
   "nbconvert_exporter": "python",
   "pygments_lexer": "ipython3",
   "version": "3.5.2"
  }
 },
 "nbformat": 4,
 "nbformat_minor": 2
}
